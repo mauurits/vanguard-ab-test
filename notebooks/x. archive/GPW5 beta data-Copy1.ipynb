{
 "cells": [
  {
   "cell_type": "code",
   "execution_count": null,
   "id": "f7d63d8e-9f6c-4631-b4b1-4a08f3c922f0",
   "metadata": {},
   "outputs": [],
   "source": [
    "import pandas as pd\n",
    "import matplotlib.pyplot as plt\n",
    "import seaborn as sns\n",
    "import numpy as np\n",
    "\n",
    "%matplotlib inline"
   ]
  },
  {
   "cell_type": "code",
   "execution_count": null,
   "id": "662d5b99-be75-4efd-a8df-32bbcbae729f",
   "metadata": {},
   "outputs": [],
   "source": [
    "df = pd.read_csv(\"/Users/maurits/Documents/Ironhack/week_05/gpw5+6/vanguard-ab-test/data/raw/df_web_comb.csv\")"
   ]
  },
  {
   "cell_type": "code",
   "execution_count": 7,
   "id": "26c773c8-b32c-40e0-88f6-13c2896b9327",
   "metadata": {},
   "outputs": [
    {
     "data": {
      "text/html": [
       "<div>\n",
       "<style scoped>\n",
       "    .dataframe tbody tr th:only-of-type {\n",
       "        vertical-align: middle;\n",
       "    }\n",
       "\n",
       "    .dataframe tbody tr th {\n",
       "        vertical-align: top;\n",
       "    }\n",
       "\n",
       "    .dataframe thead th {\n",
       "        text-align: right;\n",
       "    }\n",
       "</style>\n",
       "<table border=\"1\" class=\"dataframe\">\n",
       "  <thead>\n",
       "    <tr style=\"text-align: right;\">\n",
       "      <th></th>\n",
       "      <th>client_id</th>\n",
       "      <th>visitor_id</th>\n",
       "      <th>visit_id</th>\n",
       "      <th>process_step</th>\n",
       "      <th>date_time</th>\n",
       "    </tr>\n",
       "  </thead>\n",
       "  <tbody>\n",
       "    <tr>\n",
       "      <th>0</th>\n",
       "      <td>9988021</td>\n",
       "      <td>580560515_7732621733</td>\n",
       "      <td>781255054_21935453173_531117</td>\n",
       "      <td>step_3</td>\n",
       "      <td>2017-04-17 15:27:07</td>\n",
       "    </tr>\n",
       "    <tr>\n",
       "      <th>1</th>\n",
       "      <td>9988021</td>\n",
       "      <td>580560515_7732621733</td>\n",
       "      <td>781255054_21935453173_531117</td>\n",
       "      <td>step_2</td>\n",
       "      <td>2017-04-17 15:26:51</td>\n",
       "    </tr>\n",
       "    <tr>\n",
       "      <th>2</th>\n",
       "      <td>9988021</td>\n",
       "      <td>580560515_7732621733</td>\n",
       "      <td>781255054_21935453173_531117</td>\n",
       "      <td>step_3</td>\n",
       "      <td>2017-04-17 15:19:22</td>\n",
       "    </tr>\n",
       "    <tr>\n",
       "      <th>3</th>\n",
       "      <td>9988021</td>\n",
       "      <td>580560515_7732621733</td>\n",
       "      <td>781255054_21935453173_531117</td>\n",
       "      <td>step_2</td>\n",
       "      <td>2017-04-17 15:19:13</td>\n",
       "    </tr>\n",
       "    <tr>\n",
       "      <th>4</th>\n",
       "      <td>9988021</td>\n",
       "      <td>580560515_7732621733</td>\n",
       "      <td>781255054_21935453173_531117</td>\n",
       "      <td>step_3</td>\n",
       "      <td>2017-04-17 15:18:04</td>\n",
       "    </tr>\n",
       "  </tbody>\n",
       "</table>\n",
       "</div>"
      ],
      "text/plain": [
       "   client_id            visitor_id                      visit_id process_step  \\\n",
       "0    9988021  580560515_7732621733  781255054_21935453173_531117       step_3   \n",
       "1    9988021  580560515_7732621733  781255054_21935453173_531117       step_2   \n",
       "2    9988021  580560515_7732621733  781255054_21935453173_531117       step_3   \n",
       "3    9988021  580560515_7732621733  781255054_21935453173_531117       step_2   \n",
       "4    9988021  580560515_7732621733  781255054_21935453173_531117       step_3   \n",
       "\n",
       "             date_time  \n",
       "0  2017-04-17 15:27:07  \n",
       "1  2017-04-17 15:26:51  \n",
       "2  2017-04-17 15:19:22  \n",
       "3  2017-04-17 15:19:13  \n",
       "4  2017-04-17 15:18:04  "
      ]
     },
     "execution_count": 7,
     "metadata": {},
     "output_type": "execute_result"
    }
   ],
   "source": [
    "df.head()"
   ]
  },
  {
   "cell_type": "code",
   "execution_count": 17,
   "id": "ec895e15-015b-4137-921d-0850fb9376a8",
   "metadata": {},
   "outputs": [
    {
     "name": "stderr",
     "output_type": "stream",
     "text": [
      "/var/folders/3v/mdv6bm7j6n99zg9hqgt9n70r0000gn/T/ipykernel_42220/1533984296.py:45: DeprecationWarning: DataFrameGroupBy.apply operated on the grouping columns. This behavior is deprecated, and in a future version of pandas the grouping columns will be excluded from the operation. Either pass `include_groups=False` to exclude the groupings or explicitly select the grouping columns after groupby to silence this warning.\n",
      "  result = df.groupby('client_id').apply(analyze_client).reset_index()\n"
     ]
    },
    {
     "data": {
      "text/html": [
       "<div>\n",
       "<style scoped>\n",
       "    .dataframe tbody tr th:only-of-type {\n",
       "        vertical-align: middle;\n",
       "    }\n",
       "\n",
       "    .dataframe tbody tr th {\n",
       "        vertical-align: top;\n",
       "    }\n",
       "\n",
       "    .dataframe thead th {\n",
       "        text-align: right;\n",
       "    }\n",
       "</style>\n",
       "<table border=\"1\" class=\"dataframe\">\n",
       "  <thead>\n",
       "    <tr style=\"text-align: right;\">\n",
       "      <th></th>\n",
       "      <th>client_id</th>\n",
       "      <th>went_back</th>\n",
       "      <th>reached_confirm</th>\n",
       "      <th>total_duration_minutes</th>\n",
       "    </tr>\n",
       "  </thead>\n",
       "  <tbody>\n",
       "    <tr>\n",
       "      <th>0</th>\n",
       "      <td>169</td>\n",
       "      <td>False</td>\n",
       "      <td>True</td>\n",
       "      <td>3.550000</td>\n",
       "    </tr>\n",
       "    <tr>\n",
       "      <th>1</th>\n",
       "      <td>336</td>\n",
       "      <td>False</td>\n",
       "      <td>False</td>\n",
       "      <td>NaN</td>\n",
       "    </tr>\n",
       "    <tr>\n",
       "      <th>2</th>\n",
       "      <td>546</td>\n",
       "      <td>False</td>\n",
       "      <td>True</td>\n",
       "      <td>2.216667</td>\n",
       "    </tr>\n",
       "    <tr>\n",
       "      <th>3</th>\n",
       "      <td>555</td>\n",
       "      <td>False</td>\n",
       "      <td>True</td>\n",
       "      <td>2.633333</td>\n",
       "    </tr>\n",
       "    <tr>\n",
       "      <th>4</th>\n",
       "      <td>647</td>\n",
       "      <td>False</td>\n",
       "      <td>True</td>\n",
       "      <td>6.283333</td>\n",
       "    </tr>\n",
       "    <tr>\n",
       "      <th>...</th>\n",
       "      <td>...</td>\n",
       "      <td>...</td>\n",
       "      <td>...</td>\n",
       "      <td>...</td>\n",
       "    </tr>\n",
       "    <tr>\n",
       "      <th>120152</th>\n",
       "      <td>9999729</td>\n",
       "      <td>True</td>\n",
       "      <td>True</td>\n",
       "      <td>47668.850000</td>\n",
       "    </tr>\n",
       "    <tr>\n",
       "      <th>120153</th>\n",
       "      <td>9999768</td>\n",
       "      <td>True</td>\n",
       "      <td>True</td>\n",
       "      <td>8.100000</td>\n",
       "    </tr>\n",
       "    <tr>\n",
       "      <th>120154</th>\n",
       "      <td>9999832</td>\n",
       "      <td>False</td>\n",
       "      <td>False</td>\n",
       "      <td>NaN</td>\n",
       "    </tr>\n",
       "    <tr>\n",
       "      <th>120155</th>\n",
       "      <td>9999839</td>\n",
       "      <td>False</td>\n",
       "      <td>True</td>\n",
       "      <td>4.133333</td>\n",
       "    </tr>\n",
       "    <tr>\n",
       "      <th>120156</th>\n",
       "      <td>9999875</td>\n",
       "      <td>False</td>\n",
       "      <td>True</td>\n",
       "      <td>8.633333</td>\n",
       "    </tr>\n",
       "  </tbody>\n",
       "</table>\n",
       "<p>120157 rows × 4 columns</p>\n",
       "</div>"
      ],
      "text/plain": [
       "        client_id  went_back  reached_confirm  total_duration_minutes\n",
       "0             169      False             True                3.550000\n",
       "1             336      False            False                     NaN\n",
       "2             546      False             True                2.216667\n",
       "3             555      False             True                2.633333\n",
       "4             647      False             True                6.283333\n",
       "...           ...        ...              ...                     ...\n",
       "120152    9999729       True             True            47668.850000\n",
       "120153    9999768       True             True                8.100000\n",
       "120154    9999832      False            False                     NaN\n",
       "120155    9999839      False             True                4.133333\n",
       "120156    9999875      False             True                8.633333\n",
       "\n",
       "[120157 rows x 4 columns]"
      ]
     },
     "metadata": {},
     "output_type": "display_data"
    }
   ],
   "source": [
    "import pandas as pd\n",
    "from datetime import datetime\n",
    "\n",
    "# Assuming the data is already in a DataFrame called 'df'\n",
    "# If not, you'd need to load it first, e.g.:\n",
    "# df = pd.read_csv('your_data.csv')\n",
    "\n",
    "# Convert date_time to datetime\n",
    "df['date_time'] = pd.to_datetime(df['date_time'])\n",
    "\n",
    "# Sort the dataframe by client_id and date_time\n",
    "df = df.sort_values(['client_id', 'date_time'])\n",
    "\n",
    "# Function to analyze process steps for a client\n",
    "def analyze_client(group):\n",
    "    steps = group['process_step'].tolist()\n",
    "    times = group['date_time'].tolist()\n",
    "    \n",
    "    went_back = False\n",
    "    reached_confirm = False\n",
    "    total_duration = None\n",
    "    \n",
    "    if 'start' in steps and 'confirm' in steps:\n",
    "        reached_confirm = True\n",
    "        start_time = group[group['process_step'] == 'start']['date_time'].iloc[0]\n",
    "        confirm_time = group[group['process_step'] == 'confirm']['date_time'].iloc[-1]\n",
    "        total_duration = (confirm_time - start_time).total_seconds() / 60  # in minutes\n",
    "    \n",
    "    max_step = 0\n",
    "    for step in steps:\n",
    "        if step.startswith('step_'):\n",
    "            current_step = int(step.split('_')[1])\n",
    "            if current_step < max_step:\n",
    "                went_back = True\n",
    "                break\n",
    "            max_step = max(max_step, current_step)\n",
    "    \n",
    "    return pd.Series({\n",
    "        'went_back': went_back,\n",
    "        'reached_confirm': reached_confirm,\n",
    "        'total_duration_minutes': total_duration\n",
    "    })\n",
    "\n",
    "# Apply the analysis function to each client group\n",
    "result = df.groupby('client_id').apply(analyze_client).reset_index()\n",
    "\n",
    "# Display the results\n",
    "display(result)"
   ]
  },
  {
   "cell_type": "code",
   "execution_count": null,
   "id": "501e4aa9-6333-49e1-8437-4a5cde9cbee7",
   "metadata": {},
   "outputs": [],
   "source": []
  },
  {
   "cell_type": "code",
   "execution_count": null,
   "id": "0cb20de7-2383-4f99-8548-d007ba5bfe38",
   "metadata": {},
   "outputs": [],
   "source": []
  },
  {
   "cell_type": "code",
   "execution_count": null,
   "id": "fd2005aa-36a9-4708-bfe6-276ba15b3519",
   "metadata": {},
   "outputs": [],
   "source": []
  },
  {
   "cell_type": "code",
   "execution_count": null,
   "id": "59be9240-5523-472b-83ac-0eca744fc480",
   "metadata": {},
   "outputs": [],
   "source": []
  },
  {
   "cell_type": "code",
   "execution_count": null,
   "id": "1f334cb1-f7d6-46b9-92cc-901e724cd4ff",
   "metadata": {},
   "outputs": [],
   "source": []
  },
  {
   "cell_type": "code",
   "execution_count": null,
   "id": "abd8fddf-86ad-48c0-8287-689f9d2bc3cd",
   "metadata": {},
   "outputs": [],
   "source": []
  },
  {
   "cell_type": "code",
   "execution_count": null,
   "id": "2f2b569d-5ebc-453c-a154-1831233c072e",
   "metadata": {},
   "outputs": [],
   "source": []
  },
  {
   "cell_type": "code",
   "execution_count": null,
   "id": "cd1e5593-2178-4b0c-84db-cae33ddb16ce",
   "metadata": {},
   "outputs": [],
   "source": []
  },
  {
   "cell_type": "code",
   "execution_count": null,
   "id": "55251779-f885-416b-9110-5d3c8dd5145f",
   "metadata": {},
   "outputs": [],
   "source": []
  },
  {
   "cell_type": "code",
   "execution_count": null,
   "id": "c64f2950-4b83-4b53-a412-5aeec10403d5",
   "metadata": {},
   "outputs": [],
   "source": []
  },
  {
   "cell_type": "code",
   "execution_count": null,
   "id": "fc3d1ba4-5dfe-4fb2-b4b3-d7b085ce11b0",
   "metadata": {},
   "outputs": [],
   "source": []
  },
  {
   "cell_type": "code",
   "execution_count": null,
   "id": "6d8a47c8-c8bb-4884-a9b5-0eb1a5b9c15c",
   "metadata": {},
   "outputs": [],
   "source": [
    "df_test = df[df['Variation'] == 'Test']\n",
    "df_control = df[df['Variation'] == 'Control']\n"
   ]
  },
  {
   "cell_type": "code",
   "execution_count": null,
   "id": "1786f766-66d9-41ee-bdbf-5d5648eb8a95",
   "metadata": {},
   "outputs": [],
   "source": [
    "df_test"
   ]
  },
  {
   "cell_type": "code",
   "execution_count": null,
   "id": "8d6eebaa-3811-48c4-93af-b60b51369846",
   "metadata": {},
   "outputs": [],
   "source": [
    "# Convert the 'full_process' column to a timedelta format\n",
    "df['full_process'] = pd.to_timedelta(df['full_process'], errors='coerce')\n",
    "\n",
    "# Now group by 'age_category' and calculate the mean of 'full_process'\n",
    "age_category_mean_full_process = df.groupby('age_category')['full_process'].mean()\n",
    "\n",
    "# Display the result\n",
    "age_category_mean_full_process"
   ]
  },
  {
   "cell_type": "code",
   "execution_count": null,
   "id": "ec52be3e-e69a-48c5-8b93-4cf4b76741b9",
   "metadata": {},
   "outputs": [],
   "source": [
    "# Convert the 'full_process' column to a timedelta format\n",
    "df['full_process'] = pd.to_timedelta(df['full_process'], errors='coerce')\n",
    "\n",
    "# Now group by 'age_category' and calculate the mean of 'full_process'\n",
    "age_category_mean_full_process = df.groupby('age_category')['full_process'].min()\n",
    "\n",
    "# Display the result\n",
    "age_category_mean_full_process"
   ]
  },
  {
   "cell_type": "code",
   "execution_count": null,
   "id": "1a665a58-74bf-42f9-8a13-e35effa81422",
   "metadata": {},
   "outputs": [],
   "source": []
  },
  {
   "cell_type": "code",
   "execution_count": null,
   "id": "7939b8b2-86b7-4e0f-9206-61130b574eb4",
   "metadata": {},
   "outputs": [],
   "source": []
  },
  {
   "cell_type": "code",
   "execution_count": null,
   "id": "fe7f0017-7061-4115-8624-02dc6b7fc962",
   "metadata": {},
   "outputs": [],
   "source": []
  },
  {
   "cell_type": "code",
   "execution_count": null,
   "id": "16103b1d-7df2-4fde-9a3c-b7c82f28927f",
   "metadata": {},
   "outputs": [],
   "source": []
  },
  {
   "cell_type": "code",
   "execution_count": null,
   "id": "920b742f-1b22-4608-b35f-824186f6f9dd",
   "metadata": {},
   "outputs": [],
   "source": [
    "# problematic_entries = df[df['full_process'].apply(lambda x: isinstance(x, pd.Timestamp) or isinstance(x, str))]['full_process'].unique()\n",
    "\n",
    "# problematic_entries"
   ]
  },
  {
   "cell_type": "code",
   "execution_count": null,
   "id": "258df764-e299-4272-830d-26ed1482f1a1",
   "metadata": {},
   "outputs": [],
   "source": [
    "# df['full_process'] = df['full_process'].astype(str)\n",
    "# df['full_process'] = pd.to_timedelta(df['full_process'], errors='coerce')\n",
    "\n",
    "# # Check if the conversion is successful and there are no more errors\n",
    "# df['full_process'].dtype, df['full_process'].head()"
   ]
  },
  {
   "cell_type": "code",
   "execution_count": null,
   "id": "bd77df46-4485-4b17-9e81-f0b40d22c6cb",
   "metadata": {},
   "outputs": [],
   "source": [
    "# df['full_process'] = df['full_process'].astype(str)"
   ]
  },
  {
   "cell_type": "code",
   "execution_count": null,
   "id": "725ff0c9-6f8e-481c-9c9d-5fcd57725b09",
   "metadata": {},
   "outputs": [],
   "source": [
    "# df['full_process'] = pd.to_timedelta(df['full_process'], errors='coerce')\n"
   ]
  },
  {
   "cell_type": "code",
   "execution_count": null,
   "id": "a0d41d0e-6608-4c40-9767-6b9b3612fa2b",
   "metadata": {},
   "outputs": [],
   "source": [
    "# df.info()"
   ]
  },
  {
   "cell_type": "code",
   "execution_count": null,
   "id": "d2423997-6d8d-4dbb-b8cd-28bb6967d81a",
   "metadata": {},
   "outputs": [],
   "source": []
  },
  {
   "cell_type": "code",
   "execution_count": null,
   "id": "19fffdfc-8be9-4263-8cc2-4970313bf9a8",
   "metadata": {},
   "outputs": [],
   "source": []
  },
  {
   "cell_type": "code",
   "execution_count": null,
   "id": "1f0a8f9c-ef48-4a00-bdfd-c8ba59d32079",
   "metadata": {},
   "outputs": [],
   "source": [
    "# df_test['full_process'].mean()"
   ]
  },
  {
   "cell_type": "code",
   "execution_count": null,
   "id": "bd36ffcf-771b-4927-bd0b-15873d1d7c3d",
   "metadata": {},
   "outputs": [],
   "source": [
    "df_test['full_process'] = pd.to_datetime(df['full_process'])\n",
    "df_test_grouped = df_test.groupby('age_category')['full_process'].mean().reset_index()\n",
    "df_test_grouped"
   ]
  },
  {
   "cell_type": "code",
   "execution_count": null,
   "id": "617326c0-4cc1-447e-a661-25a4eba47b97",
   "metadata": {},
   "outputs": [],
   "source": [
    "# Convert the 'start_time' and 'end_time' columns to datetime\n",
    "df['start_time'] = pd.to_datetime(df['start_time'])\n",
    "df['end_time'] = pd.to_datetime(df['end_time'])\n",
    "\n",
    "# Calculate time differences in seconds\n",
    "df['completion_time_seconds'] = (df['end_time'] - df['start_time']).dt.total_seconds()\n",
    "\n",
    "# Group by 'department' and calculate the mean completion time\n",
    "grouped_df_completion_time = df.groupby('department')['completion_time_seconds'].mean().reset_index()\n",
    "\n",
    "# Convert time from seconds to hours, if needed\n",
    "grouped_df_completion_time['mean_completion_time_hours'] = grouped_df_completion_time['completion_time_seconds'] / 3600\n",
    "\n",
    "print(\"\\nGrouped DataFrame with Mean Completion Time (in seconds and hours):\")\n",
    "print(grouped_df_completion_time)"
   ]
  },
  {
   "cell_type": "code",
   "execution_count": null,
   "id": "7da0d499-1897-481e-9ce0-cda2f1a2eec8",
   "metadata": {},
   "outputs": [],
   "source": []
  },
  {
   "cell_type": "code",
   "execution_count": null,
   "id": "c7a93c4e-50d7-43a8-9895-91fd5728ef54",
   "metadata": {},
   "outputs": [],
   "source": []
  },
  {
   "cell_type": "code",
   "execution_count": null,
   "id": "2d28fd90-31e9-4721-aebb-ed3dea64b34a",
   "metadata": {},
   "outputs": [],
   "source": []
  },
  {
   "cell_type": "code",
   "execution_count": null,
   "id": "cc82d388-831b-409d-9394-63617eb0916b",
   "metadata": {},
   "outputs": [],
   "source": []
  },
  {
   "cell_type": "code",
   "execution_count": null,
   "id": "ae06f0a0-d143-4df9-ac48-c7a5d44c1287",
   "metadata": {},
   "outputs": [],
   "source": []
  },
  {
   "cell_type": "code",
   "execution_count": null,
   "id": "cfaca781-6b43-4e6e-a50e-63cad701315e",
   "metadata": {},
   "outputs": [],
   "source": []
  },
  {
   "cell_type": "code",
   "execution_count": null,
   "id": "1430f53d-7196-47c1-9207-0a7c79dc4fde",
   "metadata": {},
   "outputs": [],
   "source": []
  },
  {
   "cell_type": "code",
   "execution_count": null,
   "id": "969c1299-8608-4a3e-acd9-fc92487dbd87",
   "metadata": {},
   "outputs": [],
   "source": []
  },
  {
   "cell_type": "code",
   "execution_count": null,
   "id": "6af32963-2059-483f-9669-7fb2e6e2ffb5",
   "metadata": {},
   "outputs": [],
   "source": []
  },
  {
   "cell_type": "code",
   "execution_count": null,
   "id": "681ba4e8-01a9-4fa7-9a2a-fadf2eec689c",
   "metadata": {},
   "outputs": [],
   "source": []
  },
  {
   "cell_type": "code",
   "execution_count": null,
   "id": "74017b01-9b4e-467f-a06e-60aed43259c5",
   "metadata": {},
   "outputs": [],
   "source": []
  },
  {
   "cell_type": "code",
   "execution_count": null,
   "id": "6d8665e8-49d9-4847-8773-1232c3c59f0b",
   "metadata": {},
   "outputs": [],
   "source": []
  },
  {
   "cell_type": "code",
   "execution_count": null,
   "id": "360b4943-cf65-430d-90cc-8f47dd9160ae",
   "metadata": {},
   "outputs": [],
   "source": []
  },
  {
   "cell_type": "code",
   "execution_count": null,
   "id": "3c00d306-2cae-401b-9d6a-f6967a873793",
   "metadata": {},
   "outputs": [],
   "source": []
  },
  {
   "cell_type": "code",
   "execution_count": null,
   "id": "9a00d672-3957-4c8d-a640-f59daf73df1c",
   "metadata": {},
   "outputs": [],
   "source": []
  },
  {
   "cell_type": "code",
   "execution_count": null,
   "id": "da57276f-1d59-48e3-92a8-a0f312a227e1",
   "metadata": {},
   "outputs": [],
   "source": []
  },
  {
   "cell_type": "code",
   "execution_count": null,
   "id": "7a015509-7f5a-4f8f-9085-90ea056fbd7d",
   "metadata": {},
   "outputs": [],
   "source": []
  },
  {
   "cell_type": "code",
   "execution_count": null,
   "id": "507215aa-b36c-4d5f-b52b-677c70fe6a6c",
   "metadata": {},
   "outputs": [],
   "source": []
  },
  {
   "cell_type": "code",
   "execution_count": null,
   "id": "b9217406-ef77-44d5-9adc-d695e96cdae7",
   "metadata": {},
   "outputs": [],
   "source": []
  },
  {
   "cell_type": "code",
   "execution_count": null,
   "id": "5f03f305-c7a8-4be2-bca8-9992b354fc32",
   "metadata": {},
   "outputs": [],
   "source": []
  },
  {
   "cell_type": "code",
   "execution_count": null,
   "id": "0e6ef2c6-b9fa-48ef-94dc-db708cbb8365",
   "metadata": {},
   "outputs": [],
   "source": []
  },
  {
   "cell_type": "code",
   "execution_count": null,
   "id": "ae415906-af55-4fdf-bf93-38cef24ebe38",
   "metadata": {},
   "outputs": [],
   "source": []
  },
  {
   "cell_type": "code",
   "execution_count": null,
   "id": "f59b8daa-a43c-4d98-8dd3-62f9c4153760",
   "metadata": {},
   "outputs": [],
   "source": []
  },
  {
   "cell_type": "code",
   "execution_count": null,
   "id": "0ea1e3d4-0e00-4c6d-befb-14e76054eef1",
   "metadata": {},
   "outputs": [],
   "source": []
  },
  {
   "cell_type": "code",
   "execution_count": null,
   "id": "647b5ad9-4415-4b3d-ac1c-288d2469805d",
   "metadata": {},
   "outputs": [],
   "source": []
  },
  {
   "cell_type": "code",
   "execution_count": null,
   "id": "250adbc6-b16d-433b-89d4-fa9df0447439",
   "metadata": {},
   "outputs": [],
   "source": []
  },
  {
   "cell_type": "code",
   "execution_count": null,
   "id": "eb9b063c-6761-42ec-a87b-c28456ed849d",
   "metadata": {},
   "outputs": [],
   "source": []
  },
  {
   "cell_type": "code",
   "execution_count": null,
   "id": "b4401be1-6b91-43b8-8020-4114f52bd56a",
   "metadata": {},
   "outputs": [],
   "source": []
  },
  {
   "cell_type": "code",
   "execution_count": null,
   "id": "9dc81ef8-bb22-47d9-9b51-6161b3f376dc",
   "metadata": {},
   "outputs": [],
   "source": []
  },
  {
   "cell_type": "code",
   "execution_count": null,
   "id": "1bb9095a-1626-4569-857e-13eac9ef022a",
   "metadata": {},
   "outputs": [],
   "source": []
  },
  {
   "cell_type": "code",
   "execution_count": null,
   "id": "b9b44e21-1ece-4a85-af02-275b71f1b60c",
   "metadata": {},
   "outputs": [],
   "source": []
  },
  {
   "cell_type": "code",
   "execution_count": null,
   "id": "d6feeb95-d684-4029-b713-5febddf44ebe",
   "metadata": {},
   "outputs": [],
   "source": []
  },
  {
   "cell_type": "code",
   "execution_count": null,
   "id": "06ddf55c-e72b-4c28-88a8-e85e3f6a9c26",
   "metadata": {},
   "outputs": [],
   "source": []
  },
  {
   "cell_type": "code",
   "execution_count": null,
   "id": "470b0dc6-0eac-4483-8207-24f80d79f427",
   "metadata": {},
   "outputs": [],
   "source": []
  },
  {
   "cell_type": "code",
   "execution_count": null,
   "id": "be9f65d0-2cc8-4752-a34b-d63e5dda0728",
   "metadata": {},
   "outputs": [],
   "source": []
  },
  {
   "cell_type": "code",
   "execution_count": null,
   "id": "53ddc76e-ff8c-497d-95b7-247186ca2570",
   "metadata": {},
   "outputs": [],
   "source": []
  }
 ],
 "metadata": {
  "kernelspec": {
   "display_name": "Python 3 (ipykernel)",
   "language": "python",
   "name": "python3"
  },
  "language_info": {
   "codemirror_mode": {
    "name": "ipython",
    "version": 3
   },
   "file_extension": ".py",
   "mimetype": "text/x-python",
   "name": "python",
   "nbconvert_exporter": "python",
   "pygments_lexer": "ipython3",
   "version": "3.12.4"
  }
 },
 "nbformat": 4,
 "nbformat_minor": 5
}
